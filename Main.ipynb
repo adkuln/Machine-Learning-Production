{
 "cells": [
  {
   "cell_type": "code",
   "execution_count": 1,
   "metadata": {},
   "outputs": [],
   "source": [
    "from Trainer import PL_Trainer\n",
    "from Utils import get_callbacks\n",
    "from Dataset import SummarizationDataset\n",
    "from torch.utils.data import DataLoader\n",
    "import pytorch_lightning as pl\n",
    "from transformers import PegasusForConditionalGeneration, PegasusTokenizer\n",
    "from adamp import AdamP\n",
    "import pandas as pd\n",
    "import torch"
   ]
  },
  {
   "cell_type": "code",
   "execution_count": 2,
   "metadata": {},
   "outputs": [],
   "source": [
    "model_name = 'google/pegasus-large'\n",
    "tokenizer = PegasusTokenizer.from_pretrained(model_name) \n",
    "model = PegasusForConditionalGeneration.from_pretrained(model_name)\n",
    "\n",
    "INPUT_LEN = 1024\n",
    "TARGET_LEN = 100\n",
    "LR = 1e-4"
   ]
  },
  {
   "cell_type": "code",
   "execution_count": 3,
   "metadata": {},
   "outputs": [],
   "source": [
    "train_df = pd.DataFrame({\n",
    "    \"input\": ['we are the champions. How are you? who is it? what about the incredible',\n",
    "    'how are you? how is it? where is the guys? this is interesting', 'transformers bad good are you? '] * 150,\n",
    "    \"target\": ['hey we are the champions', 'we are champions', 'this is cool '] * 150\n",
    "})\n",
    "val_df = pd.DataFrame({\n",
    "   \"input\": ['we are the champions. How are you? who is it? what about the incredible',\n",
    "    'how are you? how is it? where is the guys? this is interesting', 'transformers bad good are you? '],\n",
    "    \"target\": ['hey we are the champions', 'we are champions', 'this is cool ']\n",
    "})"
   ]
  },
  {
   "cell_type": "code",
   "execution_count": 4,
   "metadata": {},
   "outputs": [],
   "source": [
    "train_dataset = SummarizationDataset(train_df, tokenizer, INPUT_LEN, TARGET_LEN)\n",
    "val_dataset = SummarizationDataset(val_df, tokenizer, INPUT_LEN, TARGET_LEN)\n",
    "train_dl = DataLoader(train_dataset,\n",
    "                      shuffle=True,\n",
    "                      batch_size=1,\n",
    "                      num_workers=20,\n",
    "                      collate_fn=train_dataset.collate_fn)\n",
    "val_dl = DataLoader(val_dataset,\n",
    "                    shuffle=False,\n",
    "                    batch_size=1,\n",
    "                    num_workers=20,\n",
    "                    collate_fn=train_dataset.collate_fn)"
   ]
  },
  {
   "cell_type": "code",
   "execution_count": 5,
   "metadata": {},
   "outputs": [],
   "source": [
    "optimizer = AdamP([p for p in model.parameters() if p.requires_grad],\n",
    "                   lr=LR, betas=(0.9, 0.999), weight_decay=0.5e-4)\n",
    "scheduler = torch.optim.lr_scheduler.ReduceLROnPlateau(\n",
    "            optimizer,\n",
    "            mode='min',\n",
    "            factor=0.5,\n",
    "            patience=1,\n",
    "            min_lr=1e-12,\n",
    "            verbose=True,\n",
    "        )"
   ]
  },
  {
   "cell_type": "code",
   "execution_count": 6,
   "metadata": {},
   "outputs": [
    {
     "ename": "NameError",
     "evalue": "name 'abc' is not defined",
     "output_type": "error",
     "traceback": [
      "\u001b[0;31m---------------------------------------------------------------------------\u001b[0m",
      "\u001b[0;31mNameError\u001b[0m                                 Traceback (most recent call last)",
      "\u001b[0;32m<ipython-input-6-03cfd743661f>\u001b[0m in \u001b[0;36m<module>\u001b[0;34m\u001b[0m\n\u001b[0;32m----> 1\u001b[0;31m \u001b[0mabc\u001b[0m\u001b[0;34m\u001b[0m\u001b[0;34m\u001b[0m\u001b[0m\n\u001b[0m",
      "\u001b[0;31mNameError\u001b[0m: name 'abc' is not defined"
     ]
    }
   ],
   "source": [
    "abc"
   ]
  },
  {
   "cell_type": "code",
   "execution_count": null,
   "metadata": {},
   "outputs": [],
   "source": [
    "for_pl_trainer = PL_Trainer(model, optimizer, scheduler)\n",
    "callbacks, checkpoint_callback = get_callbacks()\n",
    "trainer = pl.Trainer(\n",
    "        gpus=[0, 1],\n",
    "        accelerator='dp',\n",
    "        callbacks=[callbacks, checkpoint_callback],\n",
    "        gradient_clip_val=0.1,\n",
    "        precision=16,  # 32 for reproducibility, 16 for test\n",
    "        auto_lr_find=True,\n",
    "        max_epochs=10,\n",
    "        checkpoint_callback=True)\n",
    "trainer.fit(for_pl_trainer, train_dl, val_dl)"
   ]
  },
  {
   "cell_type": "code",
   "execution_count": null,
   "metadata": {},
   "outputs": [],
   "source": []
  },
  {
   "cell_type": "code",
   "execution_count": null,
   "metadata": {},
   "outputs": [],
   "source": []
  },
  {
   "cell_type": "code",
   "execution_count": null,
   "metadata": {},
   "outputs": [],
   "source": []
  },
  {
   "cell_type": "code",
   "execution_count": null,
   "metadata": {},
   "outputs": [],
   "source": []
  },
  {
   "cell_type": "code",
   "execution_count": null,
   "metadata": {},
   "outputs": [],
   "source": []
  },
  {
   "cell_type": "code",
   "execution_count": null,
   "metadata": {},
   "outputs": [],
   "source": []
  },
  {
   "cell_type": "code",
   "execution_count": null,
   "metadata": {},
   "outputs": [],
   "source": []
  },
  {
   "cell_type": "code",
   "execution_count": null,
   "metadata": {},
   "outputs": [],
   "source": []
  }
 ],
 "metadata": {
  "kernelspec": {
   "display_name": "Summarization_Trainer",
   "language": "python",
   "name": "summarization_trainer"
  },
  "language_info": {
   "codemirror_mode": {
    "name": "ipython",
    "version": 3
   },
   "file_extension": ".py",
   "mimetype": "text/x-python",
   "name": "python",
   "nbconvert_exporter": "python",
   "pygments_lexer": "ipython3",
   "version": "3.7.9"
  }
 },
 "nbformat": 4,
 "nbformat_minor": 4
}
