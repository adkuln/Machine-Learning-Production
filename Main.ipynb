{
 "cells": [
  {
   "cell_type": "code",
   "execution_count": 1,
   "metadata": {},
   "outputs": [],
   "source": [
    "from Trainer import PL_Trainer\n",
    "from Utils import get_callbacks\n",
    "from Dataset import SummarizationDataset\n",
    "from torch.utils.data import DataLoader\n",
    "import pytorch_lightning as pl\n",
    "from transformers import PegasusForConditionalGeneration, PegasusTokenizer\n",
    "from adamp import AdamP\n",
    "import pandas as pd\n",
    "import torch"
   ]
  },
  {
   "cell_type": "code",
   "execution_count": 2,
   "metadata": {},
   "outputs": [],
   "source": [
    "model_name = 'google/pegasus-large'\n",
    "tokenizer = PegasusTokenizer.from_pretrained(model_name) \n",
    "model = PegasusForConditionalGeneration.from_pretrained(model_name)\n",
    "\n",
    "INPUT_LEN = 1024\n",
    "TARGET_LEN = 100\n",
    "LR = 1e-4"
   ]
  },
  {
   "cell_type": "code",
   "execution_count": 3,
   "metadata": {},
   "outputs": [],
   "source": [
    "# input data format example\n",
    "train_df = pd.DataFrame({\n",
    "    \"input\": ['we are the champions. How are you? who is it? what about the incredible',\n",
    "    'how are you? how is it? where is the guys? this is interesting', 'transformers bad good are you? '] * 150,\n",
    "    \"target\": ['hey we are the champions', 'we are champions', 'this is cool '] * 150\n",
    "})\n",
    "val_df = pd.DataFrame({\n",
    "   \"input\": ['we are the champions. How are you? who is it? what about the incredible',\n",
    "    'how are you? how is it? where is the guys? this is interesting', 'transformers bad good are you? '],\n",
    "    \"target\": ['hey we are the champions', 'we are champions', 'this is cool ']\n",
    "})"
   ]
  },
  {
   "cell_type": "code",
   "execution_count": 4,
   "metadata": {},
   "outputs": [],
   "source": [
    "train_dataset = SummarizationDataset(train_df, tokenizer, INPUT_LEN, TARGET_LEN)\n",
    "val_dataset = SummarizationDataset(val_df, tokenizer, INPUT_LEN, TARGET_LEN)\n",
    "train_dl = DataLoader(train_dataset,\n",
    "                      shuffle=True,\n",
    "                      batch_size=1,\n",
    "                      num_workers=20,\n",
    "                      collate_fn=train_dataset.collate_fn)\n",
    "val_dl = DataLoader(val_dataset,\n",
    "                    shuffle=False,\n",
    "                    batch_size=1,\n",
    "                    num_workers=20,\n",
    "                    collate_fn=train_dataset.collate_fn)"
   ]
  },
  {
   "cell_type": "code",
   "execution_count": 5,
   "metadata": {},
   "outputs": [],
   "source": [
    "optimizer = AdamP([p for p in model.parameters() if p.requires_grad],\n",
    "                   lr=LR, betas=(0.9, 0.999), weight_decay=0.5e-4)\n",
    "scheduler = torch.optim.lr_scheduler.ReduceLROnPlateau(\n",
    "            optimizer,\n",
    "            mode='min',\n",
    "            factor=0.5,\n",
    "            patience=1,\n",
    "            min_lr=1e-12,\n",
    "            verbose=True,\n",
    "        )"
   ]
  },
  {
   "cell_type": "code",
   "execution_count": 6,
   "metadata": {},
   "outputs": [
    {
     "name": "stderr",
     "output_type": "stream",
     "text": [
      "/root/anaconda3/envs/Summarization_Trainer/lib/python3.7/site-packages/pytorch_lightning/trainer/connectors/accelerator_connector.py:282: LightningDeprecationWarning: Passing `Trainer(accelerator='dp')` has been deprecated in v1.5 and will be removed in v1.7. Use `Trainer(strategy='dp')` instead.\n",
      "  f\"Passing `Trainer(accelerator={self.distributed_backend!r})` has been deprecated\"\n",
      "Using 16bit native Automatic Mixed Precision (AMP)\n",
      "/root/anaconda3/envs/Summarization_Trainer/lib/python3.7/site-packages/pytorch_lightning/trainer/connectors/callback_connector.py:143: LightningDeprecationWarning: Setting `Trainer(checkpoint_callback=True)` is deprecated in v1.5 and will be removed in v1.7. Please consider using `Trainer(enable_checkpointing=True)`.\n",
      "  f\"Setting `Trainer(checkpoint_callback={checkpoint_callback})` is deprecated in v1.5 and will \"\n",
      "GPU available: True, used: True\n",
      "TPU available: False, using: 0 TPU cores\n",
      "IPU available: False, using: 0 IPUs\n",
      "LOCAL_RANK: 0 - CUDA_VISIBLE_DEVICES: [0,1]\n",
      "\n",
      "  | Name  | Type                            | Params\n",
      "----------------------------------------------------------\n",
      "0 | model | PegasusForConditionalGeneration | 570 M \n",
      "----------------------------------------------------------\n",
      "568 M     Trainable params\n",
      "2.1 M     Non-trainable params\n",
      "570 M     Total params\n",
      "1,141.594 Total estimated model params size (MB)\n"
     ]
    },
    {
     "data": {
      "application/vnd.jupyter.widget-view+json": {
       "model_id": "",
       "version_major": 2,
       "version_minor": 0
      },
      "text/plain": [
       "Validation sanity check: 0it [00:00, ?it/s]"
      ]
     },
     "metadata": {},
     "output_type": "display_data"
    },
    {
     "data": {
      "application/vnd.jupyter.widget-view+json": {
       "model_id": "aa16d1aa478a43d58e3c42296c3fcf7e",
       "version_major": 2,
       "version_minor": 0
      },
      "text/plain": [
       "Training: 0it [00:00, ?it/s]"
      ]
     },
     "metadata": {},
     "output_type": "display_data"
    },
    {
     "data": {
      "application/vnd.jupyter.widget-view+json": {
       "model_id": "",
       "version_major": 2,
       "version_minor": 0
      },
      "text/plain": [
       "Validating: 0it [00:00, ?it/s]"
      ]
     },
     "metadata": {},
     "output_type": "display_data"
    }
   ],
   "source": [
    "for_pl_trainer = PL_Trainer(model, optimizer, scheduler)\n",
    "callbacks, checkpoint_callback = get_callbacks()\n",
    "trainer = pl.Trainer(\n",
    "        gpus=[0, 1],\n",
    "        accelerator='dp',\n",
    "        callbacks=[callbacks, checkpoint_callback],\n",
    "        gradient_clip_val=0.1,\n",
    "        precision=16,  # 32 for reproducibility, 16 for research\n",
    "        auto_lr_find=True,\n",
    "        max_epochs=1,\n",
    "        checkpoint_callback=True)\n",
    "trainer.fit(for_pl_trainer, train_dl, val_dl)"
   ]
  },
  {
   "cell_type": "code",
   "execution_count": null,
   "metadata": {},
   "outputs": [],
   "source": []
  },
  {
   "cell_type": "code",
   "execution_count": null,
   "metadata": {},
   "outputs": [],
   "source": []
  },
  {
   "cell_type": "code",
   "execution_count": null,
   "metadata": {},
   "outputs": [],
   "source": []
  },
  {
   "cell_type": "code",
   "execution_count": null,
   "metadata": {},
   "outputs": [],
   "source": []
  }
 ],
 "metadata": {
  "kernelspec": {
   "display_name": "Summarization_Trainer",
   "language": "python",
   "name": "summarization_trainer"
  },
  "language_info": {
   "codemirror_mode": {
    "name": "ipython",
    "version": 3
   },
   "file_extension": ".py",
   "mimetype": "text/x-python",
   "name": "python",
   "nbconvert_exporter": "python",
   "pygments_lexer": "ipython3",
   "version": "3.7.9"
  }
 },
 "nbformat": 4,
 "nbformat_minor": 4
}
